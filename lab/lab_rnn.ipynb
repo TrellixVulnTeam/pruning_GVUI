{
 "cells": [
  {
   "cell_type": "markdown",
   "metadata": {},
   "source": [
    "# Семинар по рекуррентным нейронным сетям\n",
    "На этом семинаре мы обучим несколько рекуррентных архитектур для решения задачи сентимент-анализа, то есть предсказания метки тональности предложения.\n",
    "\n",
    "В общем случае рекуррентная нейронная сеть предназначена для обработки последовательности произвольной длины. Однако при реализации метода оказывается проще зафиксировать длину последовательности (даже в pytorch с их динамическими графами :) Поэтому мы пока поступим так, но вернемся к этому вопросу ниже.\n",
    "\n",
    "Сначала мы разберемся с RNN в pytorch, а затем сами реализуем наиболее популярную архитектуру.\n",
    "\n",
    "Задание сделано так, чтобы его можно было выполнять на CPU, однако RNN - это ресурсоемкая вещь, поэтому на GPU с ними работать приятнее. Можете попробовать использовать [https://colab.research.google.com](https://colab.research.google.com) - бесплатное облако с GPU."
   ]
  },
  {
   "cell_type": "markdown",
   "metadata": {},
   "source": [
    "### Гиперпараметры"
   ]
  },
  {
   "cell_type": "code",
   "execution_count": 1,
   "metadata": {},
   "outputs": [],
   "source": [
    "vocab_size = 20000 \n",
    "index_from = 3\n",
    "n_hidden = 128\n",
    "n_emb = 300\n",
    "seq_len = 32\n",
    "\n",
    "batch_size = 128\n",
    "learning_rate = 0.001\n",
    "num_epochs = 50\n",
    "\n",
    "use_gpu = True"
   ]
  },
  {
   "cell_type": "markdown",
   "metadata": {},
   "source": [
    "### Загрузка данных\n",
    "Функция load_matrix_imdb скачивает матричные данные, перемешивает и загружает их в numpy-массивы.\n",
    "\n",
    "Если у вас не установлен wget, скачайте [архив imdb.npz](https://s3.amazonaws.com/text-datasets/imdb.npz)"
   ]
  },
  {
   "cell_type": "code",
   "execution_count": 2,
   "metadata": {},
   "outputs": [],
   "source": [
    "from rnn_utils import load_matrix_imdb\n",
    "import numpy as np\n",
    "import torch\n",
    "import torch.utils.data"
   ]
  },
  {
   "cell_type": "code",
   "execution_count": 3,
   "metadata": {},
   "outputs": [],
   "source": [
    "np.random.seed(0)\n",
    "(X_train, y_train), (X_test, y_test) = load_matrix_imdb(num_words=vocab_size,\n",
    "                                                        maxlen=seq_len)"
   ]
  },
  {
   "cell_type": "code",
   "execution_count": 4,
   "metadata": {},
   "outputs": [
    {
     "data": {
      "text/plain": [
       "{0, 1}"
      ]
     },
     "execution_count": 4,
     "metadata": {},
     "output_type": "execute_result"
    }
   ],
   "source": [
    "set(y_train) # binary classification"
   ]
  },
  {
   "cell_type": "code",
   "execution_count": 5,
   "metadata": {},
   "outputs": [
    {
     "data": {
      "text/plain": [
       "((25000, 32), (25000, 32))"
      ]
     },
     "execution_count": 5,
     "metadata": {},
     "output_type": "execute_result"
    }
   ],
   "source": [
    "X_train.shape, X_test.shape"
   ]
  },
  {
   "cell_type": "code",
   "execution_count": 6,
   "metadata": {},
   "outputs": [
    {
     "data": {
      "text/plain": [
       "array([1.000e+00, 1.400e+01, 2.200e+01, 1.600e+01, 4.300e+01, 5.300e+02,\n",
       "       9.730e+02, 1.622e+03, 1.385e+03, 6.500e+01, 4.580e+02, 4.468e+03,\n",
       "       6.600e+01, 3.941e+03, 4.000e+00, 1.730e+02, 3.600e+01, 2.560e+02,\n",
       "       5.000e+00, 2.500e+01, 1.000e+02, 4.300e+01, 8.380e+02, 1.120e+02,\n",
       "       5.000e+01, 6.700e+02, 2.000e+00, 9.000e+00, 3.500e+01, 4.800e+02,\n",
       "       2.840e+02, 5.000e+00])"
      ]
     },
     "execution_count": 6,
     "metadata": {},
     "output_type": "execute_result"
    }
   ],
   "source": [
    "X_train[0] # sequence of coded words"
   ]
  },
  {
   "cell_type": "code",
   "execution_count": 7,
   "metadata": {},
   "outputs": [
    {
     "data": {
      "text/plain": [
       "array([1, 0, 0, ..., 0, 1, 0])"
      ]
     },
     "execution_count": 7,
     "metadata": {},
     "output_type": "execute_result"
    }
   ],
   "source": [
    "y_train"
   ]
  },
  {
   "cell_type": "code",
   "execution_count": 8,
   "metadata": {},
   "outputs": [],
   "source": [
    "train_dset = torch.utils.data.TensorDataset(torch.tensor(X_train, dtype=torch.long), \n",
    "                               torch.tensor(y_train, dtype=torch.long))"
   ]
  },
  {
   "cell_type": "code",
   "execution_count": 9,
   "metadata": {},
   "outputs": [],
   "source": [
    "test_dset = torch.utils.data.TensorDataset(torch.tensor(X_test, dtype=torch.long), \n",
    "                               torch.tensor(y_test, dtype=torch.long))"
   ]
  },
  {
   "cell_type": "code",
   "execution_count": 10,
   "metadata": {},
   "outputs": [],
   "source": [
    "train_loader = torch.utils.data.DataLoader(train_dset,\n",
    "                          batch_size=batch_size,\n",
    "                          shuffle=True,\n",
    "                          num_workers=4\n",
    "                         )"
   ]
  },
  {
   "cell_type": "code",
   "execution_count": 11,
   "metadata": {},
   "outputs": [],
   "source": [
    "test_loader = torch.utils.data.DataLoader(test_dset,\n",
    "                          batch_size=batch_size,\n",
    "                          shuffle=True,\n",
    "                          num_workers=4\n",
    "                         )"
   ]
  },
  {
   "cell_type": "markdown",
   "metadata": {},
   "source": [
    "### Сборка и обучение RNN в pytorch"
   ]
  },
  {
   "cell_type": "code",
   "execution_count": 12,
   "metadata": {},
   "outputs": [],
   "source": [
    "import os\n",
    "import torch.optim as optim\n",
    "import torch.nn as nn\n",
    "from torch.autograd import Variable"
   ]
  },
  {
   "cell_type": "markdown",
   "metadata": {},
   "source": [
    "Наша нейросеть будет обрабатывать входную последовательность по словам (word level). Мы будем использовать простую и стандарную рекуррентную архитектуру для сентимент-анализа: слой представлений, слой LSTM и полносвязный слой, предсказывающий выход по последнему скрытому состоянию.\n",
    "\n",
    "Ниже даны шаблоны реализации нейросети и ее обучения. Допишите класс и функции обучения так, чтобы класс реализовывал описанную архитектуру, а вызов функции train не выдавал ошибок :)"
   ]
  },
  {
   "cell_type": "code",
   "execution_count": 13,
   "metadata": {},
   "outputs": [],
   "source": [
    "class LSTMClassifier(nn.Module):\n",
    "    def __init__(self, embedding_dim, hidden_dim, vocab_size, label_size, \\\n",
    "                 batch_size, use_gpu, rec_layer):\n",
    "        super(LSTMClassifier, self).__init__()\n",
    "        self.hidden_dim = hidden_dim\n",
    "        self.batch_size = batch_size\n",
    "        self.use_gpu = use_gpu\n",
    "\n",
    "        self.word_embeddings = nn.Embedding(vocab_size, embedding_dim)\n",
    "        self.rnn = rec_layer(embedding_dim, hidden_dim)\n",
    "        self.hidden2label = nn.Linear(hidden_dim, label_size)\n",
    "    \n",
    "    def forward(self, sentences):\n",
    "        embedding = self.word_embeddings(sentences)\n",
    "        out, hidden = self.rnn(embedding)\n",
    "        res = self.hidden2label(out[-1])\n",
    "        return nn.functional.sigmoid(res)"
   ]
  },
  {
   "cell_type": "code",
   "execution_count": 20,
   "metadata": {},
   "outputs": [],
   "source": [
    "model = LSTMClassifier(embedding_dim=n_emb,\n",
    "                       hidden_dim=n_hidden,\n",
    "                       vocab_size=vocab_size,\n",
    "                       label_size=1,\n",
    "                       batch_size=batch_size, \n",
    "                       use_gpu=use_gpu,\n",
    "                       rec_layer = nn.LSTM)\n",
    "if use_gpu:\n",
    "    model = model.cuda()"
   ]
  },
  {
   "cell_type": "markdown",
   "metadata": {},
   "source": [
    "[Исходный код LSTM](http://pytorch.org/docs/master/_modules/torch/nn/modules/rnn.html#LSTM)"
   ]
  },
  {
   "cell_type": "code",
   "execution_count": 21,
   "metadata": {},
   "outputs": [],
   "source": [
    "optimizer = optim.RMSprop(model.parameters(), lr=learning_rate)\n",
    "lossfun = nn.BCELoss(size_average=False)"
   ]
  },
  {
   "cell_type": "code",
   "execution_count": 22,
   "metadata": {},
   "outputs": [],
   "source": [
    "def train_epoch(train_loader, model, lossfun, optimizer, use_gpu):\n",
    "    model.train()\n",
    "    for it, traindata in enumerate(train_loader):\n",
    "        train_inputs, train_labels = traindata\n",
    "        train_labels = torch.squeeze(train_labels)\n",
    "\n",
    "        if use_gpu:\n",
    "            train_inputs = train_inputs.to(torch.device('cuda'))\n",
    "            train_labels = train_labels.to(torch.device('cuda'))\n",
    "\n",
    "        model.zero_grad()        \n",
    "        output = model(train_inputs.t())\n",
    "\n",
    "        loss = lossfun(output.view(-1), train_labels.float())\n",
    "        loss.backward()\n",
    "        optimizer.step()\n",
    "\n",
    "def evaluate(loader, model, lossfun, use_gpu):\n",
    "    model.eval()\n",
    "    total_acc = 0.0\n",
    "    total_loss = 0.0\n",
    "    total = 0.0\n",
    "    for it, data in enumerate(loader):\n",
    "        inputs, labels = data\n",
    "        labels = torch.squeeze(labels)\n",
    "        \n",
    "        if use_gpu:\n",
    "            inputs = inputs.to(torch.device('cuda'))\n",
    "            labels = labels.to(torch.device('cuda'))\n",
    "\n",
    "        ### your code here\n",
    "\n",
    "        output = model(inputs.t())\n",
    "        loss = lossfun(output.view(-1), labels.float())\n",
    "        total_loss += loss.item()\n",
    "\n",
    "        # calc testing acc        \n",
    "        pred = output.view(-1) > 0.5\n",
    "        correct = pred == labels.byte()\n",
    "        total_acc += torch.sum(correct).item() / len(correct)\n",
    "\n",
    "    total = it + 1\n",
    "    return total_loss / total, total_acc / total\n",
    "    \n",
    "\n",
    "def train(train_loader, test_loader, model, lossfun, optimizer, \\\n",
    "          use_gpu, num_epochs):\n",
    "    train_loss_ = []\n",
    "    test_loss_ = []\n",
    "    train_acc_ = []\n",
    "    test_acc_ = []\n",
    "    for epoch in range(num_epochs):\n",
    "        train_epoch(train_loader, model, lossfun, optimizer, use_gpu)\n",
    "        train_loss, train_acc = evaluate(train_loader, model, lossfun, use_gpu)\n",
    "        train_loss_.append(train_loss)\n",
    "        train_acc_.append(train_acc)\n",
    "        test_loss, test_acc = evaluate(test_loader, model, lossfun, use_gpu)\n",
    "        test_loss_.append(test_loss)\n",
    "        test_acc_.append(test_acc)\n",
    "\n",
    "        print(f'Epoch: {epoch+1:3d}/{num_epochs:3d} '\n",
    "              f'Training Loss: {train_loss_[epoch]:.3f}, Testing Loss: {test_loss_[epoch]:.3f}, '\n",
    "              f'Training Acc: {train_acc_[epoch]:.3f}, Testing Acc: {test_acc_[epoch]:.3f}')\n",
    "\n",
    "    return train_loss_, train_acc_, test_loss_, test_acc_"
   ]
  },
  {
   "cell_type": "code",
   "execution_count": 23,
   "metadata": {},
   "outputs": [
    {
     "name": "stdout",
     "output_type": "stream",
     "text": [
      "Epoch:   1/ 15 Training Loss: 67.552, Testing Loss: 75.760, Training Acc: 0.752, Testing Acc: 0.687\n",
      "Epoch:   2/ 15 Training Loss: 51.850, Testing Loss: 70.386, Training Acc: 0.832, Testing Acc: 0.711\n",
      "Epoch:   3/ 15 Training Loss: 45.120, Testing Loss: 81.396, Training Acc: 0.847, Testing Acc: 0.688\n",
      "Epoch:   4/ 15 Training Loss: 26.766, Testing Loss: 83.755, Training Acc: 0.926, Testing Acc: 0.711\n",
      "Epoch:   5/ 15 Training Loss: 17.522, Testing Loss: 95.627, Training Acc: 0.957, Testing Acc: 0.714\n",
      "Epoch:   6/ 15 Training Loss: 10.551, Testing Loss: 114.270, Training Acc: 0.976, Testing Acc: 0.716\n",
      "Epoch:   7/ 15 Training Loss: 7.156, Testing Loss: 119.615, Training Acc: 0.988, Testing Acc: 0.708\n",
      "Epoch:   8/ 15 Training Loss: 3.732, Testing Loss: 151.612, Training Acc: 0.993, Testing Acc: 0.711\n",
      "Epoch:   9/ 15 Training Loss: 2.960, Testing Loss: 178.743, Training Acc: 0.995, Testing Acc: 0.712\n",
      "Epoch:  10/ 15 Training Loss: 1.854, Testing Loss: 182.941, Training Acc: 0.998, Testing Acc: 0.709\n",
      "Epoch:  11/ 15 Training Loss: 1.098, Testing Loss: 204.913, Training Acc: 0.998, Testing Acc: 0.713\n",
      "Epoch:  12/ 15 Training Loss: 1.782, Testing Loss: 193.046, Training Acc: 0.997, Testing Acc: 0.711\n",
      "Epoch:  13/ 15 Training Loss: 2.103, Testing Loss: 212.626, Training Acc: 0.996, Testing Acc: 0.702\n",
      "Epoch:  14/ 15 Training Loss: 1.269, Testing Loss: 210.942, Training Acc: 0.998, Testing Acc: 0.704\n",
      "Epoch:  15/ 15 Training Loss: 2.814, Testing Loss: 210.970, Training Acc: 0.994, Testing Acc: 0.695\n"
     ]
    }
   ],
   "source": [
    "a, b, c, d = train(train_loader, test_loader, model, lossfun, optimizer, use_gpu, 15)"
   ]
  },
  {
   "cell_type": "markdown",
   "metadata": {},
   "source": [
    "Нерегуляризованные LSTM часто быстро переобучаются. Чтобы с этим бороться, часто используют L2-регуляризацию и дропаут.\n",
    "Однако способов накладывать дропаут на рекуррентный слой достаточно много, и далеко не все хорошо работают. Мы реализуем дропаут, описанный в [статье Гала и Гарамани](https://arxiv.org/abs/1512.05287).\n",
    "Для этого нам потребуется самостоятельно реализовать LSTM."
   ]
  },
  {
   "cell_type": "markdown",
   "metadata": {},
   "source": [
    "### Самостоятельная реализация LSTM\n",
    "\n",
    "Для начала реализуйте LSTM, не обращая внимание на параметр dropout, и протестируйте модель. На каждом шаге ячейка LSTM обновляет скрытое состояние и память по следующим формулам:\n",
    "$$\n",
    "i = \\sigma(h_{t-1}W^i + x_t U^i+b_i) \\quad\n",
    "o = \\sigma(h_{t-1}W^o + x_t U^o+b_o) \n",
    "$$\n",
    "$$\n",
    "f = \\sigma(h_{t-1}W^f + x_t U^f+b_f) \\quad \n",
    "g = tanh(h_{t-1} W^g + x_t U^g+b_g) \n",
    "$$\n",
    "$$\n",
    "c_t = f \\odot c_{t-1} +  i \\odot  g \\quad\n",
    "h_t =  o \\odot tanh(c_t) \\nonumber\n",
    "$$"
   ]
  },
  {
   "cell_type": "code",
   "execution_count": 77,
   "metadata": {},
   "outputs": [],
   "source": [
    "from torch.nn.parameter import Parameter"
   ]
  },
  {
   "cell_type": "code",
   "execution_count": 107,
   "metadata": {},
   "outputs": [],
   "source": [
    "class MyLSTM(nn.Module):\n",
    "    def __init__(self, input_size, hidden_size, dropout=0.4):\n",
    "        super(MyLSTM, self).__init__()\n",
    "        self.input_size = input_size\n",
    "        self.hidden_size = hidden_size\n",
    "        self.dropout = dropout\n",
    "        self.input_weights = nn.Linear(input_size, 4 * hidden_size)\n",
    "        self.hidden_weights = nn.Linear(hidden_size, 4 * hidden_size)\n",
    "        self.reset_params()\n",
    "\n",
    "\n",
    "    def reset_params(self):\n",
    "        \"\"\"\n",
    "        initialization as in Pytorch\n",
    "        do not forget to call this method!\n",
    "        \"\"\"\n",
    "        stdv = 1.0 / np.sqrt(self.hidden_size)\n",
    "        for weight in self.parameters():\n",
    "            weight.data.uniform_(-stdv, stdv)\n",
    "            \n",
    "\n",
    "    def forward(self, inp, hidden=None):\n",
    "        def lstm_cell(inp, hidden):\n",
    "            hp, cp = hidden\n",
    "            if self.training:\n",
    "                inp = inp * self.input_mask\n",
    "                hp = hp * self.hidden_mask\n",
    "\n",
    "            gates = self.input_weights(inp) + self.hidden_weights(hp)\n",
    "            forgetgate, inputgate, cellgate, outgate = gates.chunk(4, dim=1)\n",
    "\n",
    "            forgetgate.sigmoid_()\n",
    "            inputgate.sigmoid_()\n",
    "            outgate.sigmoid_()\n",
    "            cellgate.tanh_()\n",
    "            \n",
    "            cn = forgetgate * cp + cellgate * inputgate\n",
    "            hn = outgate * cn.tanh()\n",
    "            return hn, cn\n",
    "        \n",
    "        if hidden is None:\n",
    "            hs = torch.zeros(self.hidden_size, device='cuda')\n",
    "            cs = torch.zeros(self.hidden_size, device='cuda')\n",
    "            hidden = (hs, cs)\n",
    "            \n",
    "        if self.training:\n",
    "            self.hidden_mask = torch.bernoulli(torch.full((self.hidden_size,), self.dropout)).to('cuda')\n",
    "            self.input_mask = torch.bernoulli(torch.full((self.input_size,), self.dropout)).to('cuda')\n",
    "        \n",
    "        output = []\n",
    "        for i in range(inp.size(0)):\n",
    "            hidden = lstm_cell(inp[i], hidden)\n",
    "            output.append(hidden[0])\n",
    "        output = torch.cat(output, 0).view(inp.size(0), *output[0].size())\n",
    "        return output, hidden"
   ]
  },
  {
   "cell_type": "code",
   "execution_count": 100,
   "metadata": {},
   "outputs": [],
   "source": [
    "model = LSTMClassifier(embedding_dim=n_emb,\n",
    "                       hidden_dim=n_hidden,\n",
    "                       vocab_size=vocab_size,\n",
    "                       label_size=1,\n",
    "                       batch_size=batch_size, \n",
    "                       use_gpu=use_gpu,\n",
    "                       rec_layer=MyLSTM)\n",
    "if use_gpu:\n",
    "    model = model.cuda()"
   ]
  },
  {
   "cell_type": "code",
   "execution_count": 83,
   "metadata": {},
   "outputs": [
    {
     "name": "stdout",
     "output_type": "stream",
     "text": [
      "Epoch:   1/ 15 Training Loss: 73.980, Testing Loss: 79.043, Training Acc: 0.707, Testing Acc: 0.658\n",
      "Epoch:   2/ 15 Training Loss: 52.719, Testing Loss: 72.260, Training Acc: 0.815, Testing Acc: 0.712\n",
      "Epoch:   3/ 15 Training Loss: 36.122, Testing Loss: 73.282, Training Acc: 0.893, Testing Acc: 0.723\n",
      "Epoch:   4/ 15 Training Loss: 22.341, Testing Loss: 84.036, Training Acc: 0.943, Testing Acc: 0.719\n",
      "Epoch:   5/ 15 Training Loss: 13.678, Testing Loss: 101.812, Training Acc: 0.970, Testing Acc: 0.710\n",
      "Epoch:   6/ 15 Training Loss: 7.711, Testing Loss: 118.866, Training Acc: 0.986, Testing Acc: 0.710\n",
      "Epoch:   7/ 15 Training Loss: 4.675, Testing Loss: 159.712, Training Acc: 0.989, Testing Acc: 0.714\n",
      "Epoch:   8/ 15 Training Loss: 3.805, Testing Loss: 150.135, Training Acc: 0.994, Testing Acc: 0.710\n",
      "Epoch:   9/ 15 Training Loss: 1.988, Testing Loss: 172.567, Training Acc: 0.997, Testing Acc: 0.712\n",
      "Epoch:  10/ 15 Training Loss: 1.144, Testing Loss: 196.296, Training Acc: 0.999, Testing Acc: 0.711\n",
      "Epoch:  11/ 15 Training Loss: 1.352, Testing Loss: 204.036, Training Acc: 0.998, Testing Acc: 0.712\n",
      "Epoch:  12/ 15 Training Loss: 1.788, Testing Loss: 197.451, Training Acc: 0.997, Testing Acc: 0.708\n",
      "Epoch:  13/ 15 Training Loss: 0.934, Testing Loss: 207.832, Training Acc: 0.999, Testing Acc: 0.709\n",
      "Epoch:  14/ 15 Training Loss: 2.004, Testing Loss: 203.207, Training Acc: 0.996, Testing Acc: 0.704\n",
      "Epoch:  15/ 15 Training Loss: 1.215, Testing Loss: 227.005, Training Acc: 0.997, Testing Acc: 0.702\n"
     ]
    }
   ],
   "source": [
    "optimizer = optim.Adam(model.parameters(), lr=learning_rate)\n",
    "loss_function = nn.BCELoss(size_average=False)\n",
    "a, b, c, d = train(train_loader, test_loader, model, lossfun, optimizer, use_gpu, 15)"
   ]
  },
  {
   "cell_type": "markdown",
   "metadata": {},
   "source": [
    "Теперь реализуйте дропаут для рекуррентного слоя. Как и в сетях прямого распространения, дропаут можно накладывать на вход и скрытое состояние ($x_t$ и $h_t$). Ключевая идея дропаута Гала состоит в том, что бинарная маска должна быть одинаковая для всех моментов времени (но своя для разных объектов). Кроме того, статья утверждает, что одновременно с бинарным дропаутом нужно использовать L$_2$-регуляризацию. Ее тоже можно включить (параметр weight_decay в оптимизаторе).\n",
    "\n",
    "Формулы ячейки LSTM с бинарным дропаутом ($b_x$ и $b_h$ - бинарные маски):\n",
    "\n",
    "$$\n",
    "i = \\sigma((h_{t-1} \\odot b_h) W^i + (x_t \\odot b_x) U^i+b_i) \\quad\n",
    "o = \\sigma((h_{t-1} \\odot b_h)W^o + (x_t \\odot b_x) U^o+b_o) \n",
    "$$\n",
    "$$\n",
    "f = \\sigma((h_{t-1} \\odot b_h)W^f + (x_t \\odot b_x) U^f+b_f) \\quad \n",
    "g = tanh((h_{t-1} \\odot b_h) W^g + (x_t \\odot b_x) U^g+b_g) \n",
    "$$\n",
    "$$\n",
    "c_t = f \\odot c_{t-1} +  i \\odot  g \\quad\n",
    "h_t =  o \\odot tanh(c_t)\n",
    "$$"
   ]
  },
  {
   "cell_type": "markdown",
   "metadata": {},
   "source": [
    "Протестируйте полученную модель, сравните итоговое качество на тестовой выборке с нерегуляризованной моделью."
   ]
  },
  {
   "cell_type": "code",
   "execution_count": 113,
   "metadata": {},
   "outputs": [],
   "source": [
    "model = LSTMClassifier(embedding_dim=n_emb,\n",
    "                       hidden_dim=n_hidden,\n",
    "                       vocab_size=vocab_size,\n",
    "                       label_size=1,\n",
    "                       batch_size=batch_size, \n",
    "                       use_gpu=use_gpu,\n",
    "                       rec_layer=MyLSTM)\n",
    "if use_gpu:\n",
    "    model = model.cuda()"
   ]
  },
  {
   "cell_type": "code",
   "execution_count": 114,
   "metadata": {},
   "outputs": [
    {
     "name": "stdout",
     "output_type": "stream",
     "text": [
      "Epoch:   1/ 15 Training Loss: 86.299, Testing Loss: 87.623, Training Acc: 0.577, Testing Acc: 0.545\n",
      "Epoch:   2/ 15 Training Loss: 107.736, Testing Loss: 109.643, Training Acc: 0.571, Testing Acc: 0.563\n",
      "Epoch:   3/ 15 Training Loss: 81.500, Testing Loss: 85.074, Training Acc: 0.662, Testing Acc: 0.644\n",
      "Epoch:   4/ 15 Training Loss: 80.054, Testing Loss: 84.911, Training Acc: 0.685, Testing Acc: 0.668\n",
      "Epoch:   5/ 15 Training Loss: 75.059, Testing Loss: 84.403, Training Acc: 0.729, Testing Acc: 0.697\n",
      "Epoch:   6/ 15 Training Loss: 71.322, Testing Loss: 85.332, Training Acc: 0.750, Testing Acc: 0.704\n",
      "Epoch:   7/ 15 Training Loss: 69.291, Testing Loss: 88.585, Training Acc: 0.773, Testing Acc: 0.714\n",
      "Epoch:   8/ 15 Training Loss: 70.316, Testing Loss: 91.479, Training Acc: 0.774, Testing Acc: 0.711\n",
      "Epoch:   9/ 15 Training Loss: 60.568, Testing Loss: 85.133, Training Acc: 0.793, Testing Acc: 0.720\n",
      "Epoch:  10/ 15 Training Loss: 60.161, Testing Loss: 88.830, Training Acc: 0.801, Testing Acc: 0.719\n",
      "Epoch:  11/ 15 Training Loss: 60.174, Testing Loss: 97.994, Training Acc: 0.814, Testing Acc: 0.721\n",
      "Epoch:  12/ 15 Training Loss: 55.225, Testing Loss: 93.334, Training Acc: 0.823, Testing Acc: 0.720\n",
      "Epoch:  13/ 15 Training Loss: 47.965, Testing Loss: 89.183, Training Acc: 0.840, Testing Acc: 0.722\n",
      "Epoch:  14/ 15 Training Loss: 44.230, Testing Loss: 89.315, Training Acc: 0.853, Testing Acc: 0.722\n",
      "Epoch:  15/ 15 Training Loss: 43.973, Testing Loss: 94.812, Training Acc: 0.856, Testing Acc: 0.721\n"
     ]
    }
   ],
   "source": [
    "optimizer = optim.Adam(model.parameters(), lr=learning_rate, weight_decay=1e-5)\n",
    "loss_function = nn.BCELoss(size_average=False)\n",
    "a, b, c, d = train(train_loader, test_loader, model, lossfun, optimizer, use_gpu, 15)"
   ]
  },
  {
   "cell_type": "markdown",
   "metadata": {
    "collapsed": true
   },
   "source": [
    "### Бонусные задания\n",
    "Вы можете выполнить одно или несколько бонусных (необязательных) заданий на исследование рекуррентной нейросети.\n",
    "\n",
    "1. __Инициализация (2 балла).__ В разных фреймворках по-разному инициализируют веса рекуррентного слоя и эмбеддингов, а также сдвиги. Например, в pytorch эмбеддинги инициализируются из нормального распределения, а веса рекуррентного слоя - из равномерного (см. [исходники 1](http://pytorch.org/docs/master/_modules/torch/nn/modules/rnn.html#LSTM) и [исходники 2](http://pytorch.org/docs/master/_modules/torch/nn/modules/sparse.html#Embedding)). Рассмотрите следующие варианты инициализации (каждый пункт означает, что поменять в исходной инициализации pytorch):\n",
    "    * Инициализация эмбеддингов из равномерного распределения [-0.05, 0.05] (стандартная практика)\n",
    "    * Инициализация весов hidden-to-hidden ортогональной матрицей (см. [реализацию в theano](https://github.com/Lasagne/Lasagne/blob/master/lasagne/init.py#L327-L367))\n",
    "    * Инициализация весов рекуррентного слоя из нормального распределения (как в embedding)\n",
    "    * Инициализация сдвига forget gate единицей (чтобы \"начинать с запоминания\")\n",
    "    Сравните качество работы нерегуляризованной LSTM с такими инициализациями. Можно ли сказать, что в pytorch грамотно выбрана инициализация по умолчанию?\n",
    "    \n",
    "1. __Начальное состояние (1 балл).__ В наших экспериментах мы всегда инициализировали начальное состояние (h_0 и c_0) нулями. Попробуйте обучать эти векторы. Повысится ли качество? Впрочем, универсального рецепта тут нет, это тоже своеобразный гиперпараметр :)\n",
    "\n",
    "1. __Переменная длина (2 балла).__ Сравните качество работы модели с seq_len = 50, 200, 400 и переменной длиной. Чтобы реализовать поддержку последовательностей переменной длины, обычно используют паддинг (можно начать гуглить [отсюда](https://discuss.pytorch.org/t/how-to-handle-variable-length-inputs-sentences/5407)).\n",
    "\n",
    "1. __Визуализация (до 3-х баллов).__ Попробуйте сделать наглядную визуализацию изменений состояний в рекуррентной нейросети. Это задание больше творческое, чем с конкретными рекомендациями. Можно попробовать показывать, на каких входных словах меняется скрытое состояние и как это влияет на выход нейросети. Поскольку на семинаре мы загружали матричные данные, вам придется также разобраться с загрузкой полноценных текстовых данных. С этим поможет модуль torchtext (в нем есть готовые загрузчики IMDB). \n",
    "\n",
    "1. __Предобученные векторы представлений (1 балл).__ В моделях word level слой представлений, как правило, имеет очень большое число параметров. Чтобы не обучать их с нуля, часто используют предобученные векторы (и дообучают их). Обычно это позволяет поднять качество на несколько процентов. Сравните качесто такой модели и инициализированной случайно. С загрузкой векторов GloVe или Word2Vec может помочь модуль torchtext."
   ]
  },
  {
   "cell_type": "code",
   "execution_count": null,
   "metadata": {
    "collapsed": true
   },
   "outputs": [],
   "source": []
  }
 ],
 "metadata": {
  "kernelspec": {
   "display_name": "Python 3",
   "language": "python",
   "name": "python3"
  },
  "language_info": {
   "codemirror_mode": {
    "name": "ipython",
    "version": 3
   },
   "file_extension": ".py",
   "mimetype": "text/x-python",
   "name": "python",
   "nbconvert_exporter": "python",
   "pygments_lexer": "ipython3",
   "version": "3.6.3"
  },
  "varInspector": {
   "cols": {
    "lenName": 16,
    "lenType": 16,
    "lenVar": 40
   },
   "kernels_config": {
    "python": {
     "delete_cmd_postfix": "",
     "delete_cmd_prefix": "del ",
     "library": "var_list.py",
     "varRefreshCmd": "print(var_dic_list())"
    },
    "r": {
     "delete_cmd_postfix": ") ",
     "delete_cmd_prefix": "rm(",
     "library": "var_list.r",
     "varRefreshCmd": "cat(var_dic_list()) "
    }
   },
   "position": {
    "height": "313px",
    "left": "926px",
    "right": "27px",
    "top": "120px",
    "width": "343px"
   },
   "types_to_exclude": [
    "module",
    "function",
    "builtin_function_or_method",
    "instance",
    "_Feature"
   ],
   "window_display": false
  }
 },
 "nbformat": 4,
 "nbformat_minor": 2
}
